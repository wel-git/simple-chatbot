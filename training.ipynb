{
 "cells": [
  {
   "cell_type": "markdown",
   "metadata": {},
   "source": [
    "IMPORTS AND CONFIGURATIONS\n"
   ]
  },
  {
   "cell_type": "code",
   "execution_count": 177,
   "metadata": {},
   "outputs": [],
   "source": [
    "\n",
    "import json\n",
    "import pickle \n",
    "import numpy as np\n",
    "\n",
    "import nltk \n",
    "\n",
    "from keras.models import Sequential\n",
    "from keras.layers import Dense, Dropout\n",
    "from tensorflow.keras.optimizers import SGD\n",
    "import tensorflow as tf\n",
    "import matplotlib.pyplot as plt\n",
    "\n",
    "import os\n",
    "\n"
   ]
  },
  {
   "cell_type": "code",
   "execution_count": 178,
   "metadata": {},
   "outputs": [
    {
     "name": "stderr",
     "output_type": "stream",
     "text": [
      "[nltk_data] Downloading package wordnet to\n",
      "[nltk_data]     C:\\Users\\ellak\\AppData\\Roaming\\nltk_data...\n",
      "[nltk_data]   Package wordnet is already up-to-date!\n",
      "[nltk_data] Downloading package omw-1.4 to\n",
      "[nltk_data]     C:\\Users\\ellak\\AppData\\Roaming\\nltk_data...\n",
      "[nltk_data]   Package omw-1.4 is already up-to-date!\n",
      "[nltk_data] Downloading package punkt to\n",
      "[nltk_data]     C:\\Users\\ellak\\AppData\\Roaming\\nltk_data...\n",
      "[nltk_data]   Package punkt is already up-to-date!\n"
     ]
    }
   ],
   "source": [
    "\n",
    "\n",
    "# i don't know why my nltk doesn't work if i don't download these 3 things. \n",
    "# if yours works without needing to download it, please comment these 3 lines out\n",
    "nltk.download('wordnet')\n",
    "nltk.download('omw-1.4')\n",
    "nltk.download('punkt')\n",
    "\n",
    "\n",
    "\n",
    "\n",
    "# I will be using SnowballStemmer because it is more aggressive than PorterStemmer but gentler than LancasterStemmer. \n",
    "# At the scale of this project, it doesn't matter which Stemmer I use\n",
    "from nltk import SnowballStemmer\n",
    "snowball = SnowballStemmer(language='english')\n"
   ]
  },
  {
   "cell_type": "code",
   "execution_count": 179,
   "metadata": {},
   "outputs": [],
   "source": [
    "\n",
    "DIRECTORY_PATH = os.getcwd()\n",
    "\n",
    "jsonfile = open(DIRECTORY_PATH + '\\\\data\\\\intents.json','r') \n",
    "intents = json.load(jsonfile)\n",
    "\n"
   ]
  },
  {
   "cell_type": "markdown",
   "metadata": {},
   "source": [
    "Important Arrays"
   ]
  },
  {
   "cell_type": "code",
   "execution_count": 180,
   "metadata": {},
   "outputs": [],
   "source": [
    "\n",
    "'''\n",
    "tags = ['greeting', 'age', 'date', 'name', 'goodbye']\n",
    "'''\n",
    "tags = []\n",
    "\n",
    "\n",
    "'''\n",
    "patterns (list) is tagged. \n",
    "patterns = [[\"how\", \"are\", \"you\"], \"greeting\"]\n",
    "'''\n",
    "patterns = []\n",
    "\n",
    "\n",
    "'''\n",
    "words (list) contain every word in patterns untagged\n",
    "words = [\"how\", \"are\", \"you\", \"hello\", \"hi\", \"call\", \"your\", \"name\", \"bye\", \"g2g\", \"see\", \"adios\"]\n",
    "'''\n",
    "words = []\n",
    "\n"
   ]
  },
  {
   "cell_type": "code",
   "execution_count": 181,
   "metadata": {},
   "outputs": [],
   "source": [
    "for intent in intents[\"intents\"]: \n",
    "    \n",
    "    tags.append(intent [\"tag\"])\n",
    "    \n",
    "    for pattern in intent[\"patterns\"]: \n",
    "\n",
    "        tokenised_list = nltk.tokenize.word_tokenize(pattern)\n",
    "\n",
    "        stemmed_tokenised_list = [snowball.stem(tokenised_word.lower()) for tokenised_word in tokenised_list]\n",
    "\n",
    "\n",
    "        words.extend(stemmed_tokenised_list)\n",
    "        patterns.append((stemmed_tokenised_list, intent[\"tag\"]))\n",
    "words = sorted(set(words))\n"
   ]
  },
  {
   "cell_type": "code",
   "execution_count": 182,
   "metadata": {},
   "outputs": [],
   "source": [
    "\n",
    "'''\n",
    "bag = [[input_tray, output_tray], [input_tray, output_tray], ]\n",
    "where input_tray (length = len(words) )is a binary of which words in words (list) appear, and \n",
    "where output_tray (length = len(tags)) is a binary of which tags in tags (tags) appear.\n",
    "\n",
    "'''\n",
    "bag = []\n",
    "for pattern in patterns: \n",
    "\n",
    "    input_tray = []\n",
    "    for word in words: \n",
    "        input_tray.append(1) if word in pattern[0] else input_tray.append(0)\n",
    "        \n",
    "    output_tray = []\n",
    "    for tag in tags: \n",
    "        output_tray.append(1) if tag in pattern[1] else output_tray.append(0)\n",
    "    bag.append([input_tray, output_tray])\n"
   ]
  },
  {
   "cell_type": "code",
   "execution_count": 183,
   "metadata": {},
   "outputs": [
    {
     "name": "stdout",
     "output_type": "stream",
     "text": [
      "predictors: [[0 0 0 0 0 0 0 0 0 0 0 0 0 1 0 0 0 0 0 0 0 0 0 0 0 0 0 0 0 0 0 0 0 0 0 0\n",
      "  0 0 0]\n",
      " [0 1 0 1 0 0 0 0 0 0 0 0 0 0 0 0 1 0 0 0 0 0 0 0 0 0 0 0 0 0 0 0 0 0 0 0\n",
      "  0 1 0]\n",
      " [0 0 0 0 0 0 0 0 0 0 0 0 0 0 0 1 0 0 0 0 0 0 0 0 1 0 0 0 0 0 0 0 0 0 0 0\n",
      "  0 0 0]\n",
      " [0 0 0 0 0 0 0 0 0 0 0 0 0 0 0 1 0 0 0 0 0 0 0 0 0 0 0 0 0 0 0 0 0 0 0 0\n",
      "  0 0 0]\n",
      " [0 0 0 0 0 0 0 0 0 0 0 0 0 0 0 0 0 0 0 0 0 0 0 0 0 0 0 0 1 0 0 0 0 1 0 0\n",
      "  0 0 0]\n",
      " [0 0 0 0 0 0 0 0 0 0 0 0 0 0 1 0 0 0 0 0 0 0 0 0 0 0 0 0 0 0 0 0 0 0 0 0\n",
      "  0 0 0]\n",
      " [0 1 0 1 0 0 0 0 0 0 0 0 0 0 0 0 1 0 0 1 0 0 0 0 0 0 0 0 0 0 0 0 0 0 0 0\n",
      "  0 1 0]\n",
      " [0 1 0 0 1 0 0 0 0 0 0 0 0 0 0 0 0 1 0 0 0 0 0 0 0 0 0 0 0 0 0 0 0 0 1 0\n",
      "  0 0 1]\n",
      " [0 1 0 0 0 1 0 0 0 0 0 0 0 0 0 0 0 0 0 0 0 0 0 0 0 0 0 0 0 0 1 0 0 0 1 0\n",
      "  0 1 0]\n",
      " [0 1 0 1 0 0 0 0 0 1 0 0 0 0 0 0 0 0 0 0 0 0 0 0 0 1 0 0 0 0 0 0 1 1 0 0\n",
      "  0 1 0]\n",
      " [0 1 0 0 0 0 0 0 0 1 0 0 1 0 0 0 0 0 0 0 1 0 0 1 0 0 1 1 0 1 0 0 0 0 0 0\n",
      "  0 1 0]\n",
      " [0 0 0 1 0 0 0 0 0 0 1 0 0 0 0 0 0 0 0 0 0 1 0 0 0 1 0 0 0 0 0 1 0 1 0 0\n",
      "  0 0 1]\n",
      " [1 1 0 0 0 0 0 0 0 0 0 0 0 0 0 0 0 0 1 0 0 0 0 0 0 0 0 0 0 0 0 0 0 1 0 0\n",
      "  0 0 1]\n",
      " [0 1 0 1 0 0 0 1 0 0 0 0 0 0 0 0 0 0 0 0 0 0 0 0 0 0 0 0 0 0 0 0 0 1 0 0\n",
      "  0 1 0]\n",
      " [0 1 0 1 0 0 0 0 0 0 0 0 0 0 0 0 0 0 0 0 0 0 0 0 0 0 0 0 0 0 0 0 0 0 0 1\n",
      "  0 1 0]\n",
      " [0 0 0 0 0 0 1 0 0 0 0 0 0 0 0 0 0 0 0 0 0 0 0 0 0 0 0 0 0 0 0 0 0 0 0 0\n",
      "  0 0 0]\n",
      " [0 0 0 0 0 0 0 0 0 0 0 1 0 0 0 0 0 0 0 0 0 0 0 0 0 0 0 0 0 0 0 0 0 0 0 0\n",
      "  0 0 0]\n",
      " [0 0 0 0 0 0 0 0 0 0 0 0 0 0 0 0 0 0 0 0 0 0 1 0 0 0 0 0 0 0 0 0 0 0 0 0\n",
      "  1 0 0]\n",
      " [0 0 1 0 0 0 0 0 0 0 0 0 0 0 0 0 0 0 0 0 0 0 0 0 0 0 0 0 0 0 0 0 0 0 0 0\n",
      "  0 0 0]\n",
      " [0 0 0 0 0 0 0 0 1 0 0 0 0 0 0 0 0 0 0 0 0 0 0 0 0 0 0 0 0 0 0 0 0 0 0 0\n",
      "  0 0 0]]\n",
      "target: [[1 0 0 0 0]\n",
      " [1 0 0 0 0]\n",
      " [1 0 0 0 0]\n",
      " [1 0 0 0 0]\n",
      " [1 0 0 0 0]\n",
      " [1 0 0 0 0]\n",
      " [0 1 0 0 0]\n",
      " [0 1 0 0 0]\n",
      " [0 1 0 0 0]\n",
      " [0 0 1 0 0]\n",
      " [0 0 1 0 0]\n",
      " [0 0 1 0 0]\n",
      " [0 0 0 1 0]\n",
      " [0 0 0 1 0]\n",
      " [0 0 0 1 0]\n",
      " [0 0 0 0 1]\n",
      " [0 0 0 0 1]\n",
      " [0 0 0 0 1]\n",
      " [0 0 0 0 1]\n",
      " [0 0 0 0 1]]\n"
     ]
    }
   ],
   "source": [
    "predictors = np.array([input_tray[0] for input_tray in bag ])\n",
    "target = np.array([output_tray[1] for output_tray in bag ])\n",
    "\n",
    "print(f\"predictors: {predictors}\")\n",
    "print(f\"target: {target}\")"
   ]
  },
  {
   "cell_type": "markdown",
   "metadata": {},
   "source": [
    "Neural Net with SGD"
   ]
  },
  {
   "cell_type": "code",
   "execution_count": 184,
   "metadata": {},
   "outputs": [],
   "source": [
    "def get_new_model (n_cols, output_node_number): \n",
    "\n",
    "    '''\n",
    "    ARGS\n",
    "        n_cols\n",
    "            number of input nodes\n",
    "        output_node_number\n",
    "            number of output nodes\n",
    "\n",
    "    RETURN\n",
    "        model\n",
    "            Sequential model use because this model is a plain stack of layers\n",
    "            2 hidden layers\n",
    "                activation = 'relu'\n",
    "                    if the activation output is negative, 0 activation\n",
    "            1 output layer\n",
    "                activation = 'sigmoid'\n",
    "                    probabilities produced are independent\n",
    "    '''\n",
    "    model = Sequential()\n",
    "\n",
    "    #HIDDEN LAYER 1\n",
    "    model.add(Dense(256, activation = \"relu\", input_shape= (n_cols,)))\n",
    "    model.add(Dropout(0.5))\n",
    "\n",
    "\n",
    "    #HIDDEN LAYER 2\n",
    "    model.add(Dense(64, activation = \"relu\"))\n",
    "    model.add(Dropout(0.5))\n",
    "\n",
    "\n",
    "    #OUTPUT LAYER\n",
    "    model.add(Dense(output_node_number, activation = \"sigmoid\"))\n",
    "\n",
    "\n",
    "        \n",
    "    return model\n"
   ]
  },
  {
   "cell_type": "code",
   "execution_count": 185,
   "metadata": {},
   "outputs": [],
   "source": [
    "\n",
    "model = get_new_model(len(words), len(tags))\n",
    "\n",
    "temp_optimiser = SGD(learning_rate = 0.01, name = \"SGD\")\n"
   ]
  },
  {
   "cell_type": "markdown",
   "metadata": {},
   "source": [
    "Compiling Model\n"
   ]
  },
  {
   "cell_type": "code",
   "execution_count": 186,
   "metadata": {},
   "outputs": [
    {
     "data": {
      "text/plain": [
       "\"\\nfor model.compile, loss = 'categorical_crossentropy' is used instead of loss='binary_crossentropy' because in testing, \\n\\n                input   model.predict\\nbinary          'bye'   [[0.4045582  0.25203222 0.21274081 0.23734218 0.34564596]]\\ncategorical     'bye'   [[0.64356977 0.25627816 0.17136884 0.2590875  0.9181623 ]]\\n\\nThere is a far drastic difference when using categorical_crossentropy than when using binary_crossentropy\\n\""
      ]
     },
     "execution_count": 186,
     "metadata": {},
     "output_type": "execute_result"
    }
   ],
   "source": [
    "'''\n",
    "for model.compile, loss = 'categorical_crossentropy' is used instead of loss='binary_crossentropy' because in testing, \n",
    "\n",
    "                input   model.predict\n",
    "binary          'bye'   [[0.4045582  0.25203222 0.21274081 0.23734218 0.34564596]]\n",
    "categorical     'bye'   [[0.64356977 0.25627816 0.17136884 0.2590875  0.9181623 ]]\n",
    "\n",
    "There is a far drastic difference when using categorical_crossentropy than when using binary_crossentropy\n",
    "'''"
   ]
  },
  {
   "cell_type": "code",
   "execution_count": 187,
   "metadata": {},
   "outputs": [],
   "source": [
    "\n",
    "model.compile(optimizer = temp_optimiser, loss = \"categorical_crossentropy\", metrics=['accuracy'])\n",
    "\n"
   ]
  },
  {
   "cell_type": "markdown",
   "metadata": {},
   "source": [
    "FIT MODEL"
   ]
  },
  {
   "cell_type": "code",
   "execution_count": 188,
   "metadata": {},
   "outputs": [
    {
     "name": "stdout",
     "output_type": "stream",
     "text": [
      "this is the last loss: 0.35735052824020386\n",
      "this is the average accuracy: 0.8999999761581421\n"
     ]
    }
   ],
   "source": [
    "\n",
    "hist = model.fit ( predictors, target, epochs = 1000, verbose=False)\n",
    "\n",
    "\n",
    "print(f\"this is the last loss: {hist.history['loss'][-1]}\")\n",
    "print(f\"this is the average accuracy: {hist.history['accuracy'][-1]}\")\n"
   ]
  },
  {
   "cell_type": "markdown",
   "metadata": {},
   "source": [
    "PLOT"
   ]
  },
  {
   "cell_type": "markdown",
   "metadata": {},
   "source": [
    "FIG 1: loss decrease over the epochs\n",
    "\n"
   ]
  },
  {
   "cell_type": "code",
   "execution_count": 189,
   "metadata": {},
   "outputs": [
    {
     "data": {
      "image/png": "[encoded data removed]",
      "text/plain": [
       "<Figure size 432x288 with 1 Axes>"
      ]
     },
     "metadata": {
      "needs_background": "light"
     },
     "output_type": "display_data"
    }
   ],
   "source": [
    "plt.plot(hist.history['loss'], 'r', hist.history['loss'], 'b')\n",
    "  \n",
    "\n",
    "plt.title(\"History: Loss\")\n",
    "plt.show()"
   ]
  },
  {
   "cell_type": "markdown",
   "metadata": {},
   "source": [
    "FIG 2: accuracy increase over the epochs\n",
    "\n"
   ]
  },
  {
   "cell_type": "code",
   "execution_count": 190,
   "metadata": {},
   "outputs": [
    {
     "data": {
      "image/png": "[encoded data removed]",
      "text/plain": [
       "<Figure size 432x288 with 1 Axes>"
      ]
     },
     "metadata": {
      "needs_background": "light"
     },
     "output_type": "display_data"
    }
   ],
   "source": [
    "plt.plot(hist.history['accuracy'], 'r', hist.history['accuracy'], 'b')\n",
    "\n",
    "\n",
    "plt.title(\"History: accuracy\")\n",
    "plt.show()"
   ]
  },
  {
   "cell_type": "markdown",
   "metadata": {},
   "source": [
    "SAVING DATA\n"
   ]
  },
  {
   "cell_type": "code",
   "execution_count": 191,
   "metadata": {},
   "outputs": [
    {
     "name": "stdout",
     "output_type": "stream",
     "text": [
      "INFO:tensorflow:Assets written to: c:\\Users\\ellak\\Documents\\coding\\py\\fun\\project chatbot\\model\\assets\n",
      "Done\n"
     ]
    }
   ],
   "source": [
    "\n",
    "import shutil\n",
    "shutil.rmtree(DIRECTORY_PATH + '\\\\pickle')\n",
    "\n",
    "os.mkdir(DIRECTORY_PATH + '\\\\pickle')\n",
    "\n",
    "pickle.dump (words, open(DIRECTORY_PATH + '\\\\pickle\\\\words.pkl', \"wb\"))\n",
    "pickle.dump (tags, open(DIRECTORY_PATH + '\\\\pickle\\\\tags.pkl', \"wb\"))\n",
    "pickle.dump (bag, open(DIRECTORY_PATH + '\\\\pickle\\\\bag.pkl', \"wb\"))\n",
    "\n",
    "\n",
    "\n",
    "shutil.rmtree(DIRECTORY_PATH + \"\\\\model\")\n",
    "\n",
    "model.save(DIRECTORY_PATH + \"\\\\model\", hist)\n",
    "\n",
    "\n",
    "\n",
    "print(\"Done\")\n"
   ]
  },
  {
   "cell_type": "markdown",
   "metadata": {},
   "source": [
    "TESTING"
   ]
  },
  {
   "cell_type": "code",
   "execution_count": 192,
   "metadata": {},
   "outputs": [
    {
     "name": "stdout",
     "output_type": "stream",
     "text": [
      "result: [[0.77016056 0.33103532 0.19320393 0.11540961 0.9658521 ]]\n"
     ]
    }
   ],
   "source": [
    "\n",
    "'''\n",
    "This commented out code can be used for testing. \n",
    "\n",
    "In the example below, testing shows the binary input array for \"bye\"\n",
    "'''\n",
    "testing = np.array([0, 0, 0, 0, 0, 0, 1, 0, 0, 0, 0, 0, 0, 0, 0, 0, 0, 0, 0, 0, 0, 0, 0, 0, 0, 0, 0, 0, 0, 0, 0, 0, 0, 0, 0, 0, 0, 0, 0])\n",
    "\n",
    "testing = tf.expand_dims(testing, axis=0)\n",
    "\n",
    "result = model.predict(testing)\n",
    "\n",
    "print(f\"result: {result}\")"
   ]
  }
 ],
 "metadata": {
  "interpreter": {
   "hash": "e0181f5e01fa550fc65982e09fa91186ed52e1954cf445b8c11a34f21f670ff9"
  },
  "kernelspec": {
   "display_name": "Python 3.10.1 64-bit",
   "language": "python",
   "name": "python3"
  },
  "language_info": {
   "codemirror_mode": {
    "name": "ipython",
    "version": 3
   },
   "file_extension": ".py",
   "mimetype": "text/x-python",
   "name": "python",
   "nbconvert_exporter": "python",
   "pygments_lexer": "ipython3",
   "version": "3.10.1"
  },
  "orig_nbformat": 4
 },
 "nbformat": 4,
 "nbformat_minor": 2
}
